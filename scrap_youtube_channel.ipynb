{
 "cells": [
  {
   "cell_type": "markdown",
   "id": "4b7aea09",
   "metadata": {},
   "source": [
    "source: https://stackoverflow.com/a/64777192"
   ]
  },
  {
   "cell_type": "code",
   "execution_count": null,
   "id": "3f359c36",
   "metadata": {},
   "outputs": [],
   "source": [
    "import time\n",
    "import pandas as pd\n",
    "from selenium import webdriver"
   ]
  },
  {
   "cell_type": "code",
   "execution_count": null,
   "id": "c775cfa9",
   "metadata": {},
   "outputs": [],
   "source": [
    "driver = webdriver.Chrome()\n",
    "url = 'https://www.youtube.com/c/GRIIBandungStream/videos'\n",
    "driver.get(url)\n",
    "\n",
    "height = driver.execute_script(\"return document.documentElement.scrollHeight\")\n",
    "previousHeight = -1\n",
    "init_duration = 20\n",
    "i = 0\n",
    "\n",
    "# while previousHeight < height:\n",
    "while i < 10:\n",
    "    previousHeight = height\n",
    "    driver.execute_script(f'window.scrollTo(0,{height + 10000})')\n",
    "    time.sleep(init_duration)\n",
    "    height = driver.execute_script(\n",
    "        \"return document.documentElement.scrollHeight\")\n",
    "    init_duration = 10\n",
    "    i += 1"
   ]
  },
  {
   "cell_type": "code",
   "execution_count": null,
   "id": "0f38e4be",
   "metadata": {},
   "outputs": [],
   "source": [
    "vidElements = driver.find_elements_by_id('thumbnail')\n",
    "vidTitle = driver.find_elements_by_id('video-title')"
   ]
  },
  {
   "cell_type": "code",
   "execution_count": null,
   "id": "23074c07",
   "metadata": {},
   "outputs": [],
   "source": [
    "vid_urls = []\n",
    "for v in vidElements:\n",
    "    vid_urls.append(v.get_attribute('href'))"
   ]
  },
  {
   "cell_type": "code",
   "execution_count": null,
   "id": "a72869f9",
   "metadata": {},
   "outputs": [],
   "source": [
    "vid_title = []\n",
    "for t in vidTitle:\n",
    "    vid_title.append(t.text)"
   ]
  },
  {
   "cell_type": "code",
   "execution_count": null,
   "id": "f6dbc099",
   "metadata": {},
   "outputs": [],
   "source": [
    "len(vid_urls) - 2, len(vid_title) - 1"
   ]
  },
  {
   "cell_type": "markdown",
   "id": "83fa752f",
   "metadata": {},
   "source": [
    "# Sampling"
   ]
  },
  {
   "cell_type": "code",
   "execution_count": null,
   "id": "0ad60369",
   "metadata": {},
   "outputs": [],
   "source": [
    "vid_urls[7], vid_title[7]"
   ]
  },
  {
   "cell_type": "code",
   "execution_count": null,
   "id": "5364dd9f",
   "metadata": {},
   "outputs": [],
   "source": [
    "df = pd.DataFrame({\n",
    "    'vid_urls': vid_urls[:len(vid_urls) - 2],\n",
    "    'vid_title': vid_title[:len(vid_title) - 1]\n",
    "})"
   ]
  },
  {
   "cell_type": "code",
   "execution_count": null,
   "id": "a340538b",
   "metadata": {},
   "outputs": [],
   "source": [
    "df"
   ]
  },
  {
   "cell_type": "code",
   "execution_count": null,
   "id": "2de3cacc",
   "metadata": {},
   "outputs": [],
   "source": [
    "from datetime import datetime\n",
    "\n",
    "fname = datetime.today().strftime('%Y%m%d')\n",
    "fname"
   ]
  },
  {
   "cell_type": "code",
   "execution_count": null,
   "id": "a4dde242",
   "metadata": {},
   "outputs": [],
   "source": [
    "df.to_csv(fname + '_youtube_grii_bdg.csv', index=False)"
   ]
  },
  {
   "cell_type": "code",
   "execution_count": null,
   "id": "0c9b26b3",
   "metadata": {},
   "outputs": [],
   "source": [
    "driver.close()"
   ]
  }
 ],
 "metadata": {
  "kernelspec": {
   "display_name": "Python 3",
   "language": "python",
   "name": "python3"
  },
  "language_info": {
   "codemirror_mode": {
    "name": "ipython",
    "version": 3
   },
   "file_extension": ".py",
   "mimetype": "text/x-python",
   "name": "python",
   "nbconvert_exporter": "python",
   "pygments_lexer": "ipython3",
   "version": "3.7.10"
  },
  "toc": {
   "base_numbering": 1,
   "nav_menu": {},
   "number_sections": true,
   "sideBar": true,
   "skip_h1_title": false,
   "title_cell": "Table of Contents",
   "title_sidebar": "Contents",
   "toc_cell": false,
   "toc_position": {},
   "toc_section_display": true,
   "toc_window_display": false
  }
 },
 "nbformat": 4,
 "nbformat_minor": 5
}
